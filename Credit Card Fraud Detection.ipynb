{
 "cells": [
  {
   "cell_type": "code",
   "execution_count": 1,
   "id": "4abc3c93-87f9-4574-b733-8c353f3a613e",
   "metadata": {},
   "outputs": [],
   "source": [
    "import numpy as np\n",
    "import pandas as pd\n",
    "import matplotlib.pyplot as plt\n",
    "import seaborn as sns"
   ]
  },
  {
   "cell_type": "code",
   "execution_count": 2,
   "id": "0122f1f9-7c21-486c-b615-6ec78ecc6623",
   "metadata": {},
   "outputs": [
    {
     "data": {
      "text/html": [
       "<div>\n",
       "<style scoped>\n",
       "    .dataframe tbody tr th:only-of-type {\n",
       "        vertical-align: middle;\n",
       "    }\n",
       "\n",
       "    .dataframe tbody tr th {\n",
       "        vertical-align: top;\n",
       "    }\n",
       "\n",
       "    .dataframe thead th {\n",
       "        text-align: right;\n",
       "    }\n",
       "</style>\n",
       "<table border=\"1\" class=\"dataframe\">\n",
       "  <thead>\n",
       "    <tr style=\"text-align: right;\">\n",
       "      <th></th>\n",
       "      <th>Time</th>\n",
       "      <th>V1</th>\n",
       "      <th>V2</th>\n",
       "      <th>V3</th>\n",
       "      <th>V4</th>\n",
       "      <th>V5</th>\n",
       "      <th>V6</th>\n",
       "      <th>V7</th>\n",
       "      <th>V8</th>\n",
       "      <th>V9</th>\n",
       "      <th>...</th>\n",
       "      <th>V21</th>\n",
       "      <th>V22</th>\n",
       "      <th>V23</th>\n",
       "      <th>V24</th>\n",
       "      <th>V25</th>\n",
       "      <th>V26</th>\n",
       "      <th>V27</th>\n",
       "      <th>V28</th>\n",
       "      <th>Amount</th>\n",
       "      <th>Class</th>\n",
       "    </tr>\n",
       "  </thead>\n",
       "  <tbody>\n",
       "    <tr>\n",
       "      <th>0</th>\n",
       "      <td>0.0</td>\n",
       "      <td>-1.359807</td>\n",
       "      <td>-0.072781</td>\n",
       "      <td>2.536347</td>\n",
       "      <td>1.378155</td>\n",
       "      <td>-0.338321</td>\n",
       "      <td>0.462388</td>\n",
       "      <td>0.239599</td>\n",
       "      <td>0.098698</td>\n",
       "      <td>0.363787</td>\n",
       "      <td>...</td>\n",
       "      <td>-0.018307</td>\n",
       "      <td>0.277838</td>\n",
       "      <td>-0.110474</td>\n",
       "      <td>0.066928</td>\n",
       "      <td>0.128539</td>\n",
       "      <td>-0.189115</td>\n",
       "      <td>0.133558</td>\n",
       "      <td>-0.021053</td>\n",
       "      <td>149.62</td>\n",
       "      <td>0</td>\n",
       "    </tr>\n",
       "    <tr>\n",
       "      <th>1</th>\n",
       "      <td>0.0</td>\n",
       "      <td>1.191857</td>\n",
       "      <td>0.266151</td>\n",
       "      <td>0.166480</td>\n",
       "      <td>0.448154</td>\n",
       "      <td>0.060018</td>\n",
       "      <td>-0.082361</td>\n",
       "      <td>-0.078803</td>\n",
       "      <td>0.085102</td>\n",
       "      <td>-0.255425</td>\n",
       "      <td>...</td>\n",
       "      <td>-0.225775</td>\n",
       "      <td>-0.638672</td>\n",
       "      <td>0.101288</td>\n",
       "      <td>-0.339846</td>\n",
       "      <td>0.167170</td>\n",
       "      <td>0.125895</td>\n",
       "      <td>-0.008983</td>\n",
       "      <td>0.014724</td>\n",
       "      <td>2.69</td>\n",
       "      <td>0</td>\n",
       "    </tr>\n",
       "    <tr>\n",
       "      <th>2</th>\n",
       "      <td>1.0</td>\n",
       "      <td>-1.358354</td>\n",
       "      <td>-1.340163</td>\n",
       "      <td>1.773209</td>\n",
       "      <td>0.379780</td>\n",
       "      <td>-0.503198</td>\n",
       "      <td>1.800499</td>\n",
       "      <td>0.791461</td>\n",
       "      <td>0.247676</td>\n",
       "      <td>-1.514654</td>\n",
       "      <td>...</td>\n",
       "      <td>0.247998</td>\n",
       "      <td>0.771679</td>\n",
       "      <td>0.909412</td>\n",
       "      <td>-0.689281</td>\n",
       "      <td>-0.327642</td>\n",
       "      <td>-0.139097</td>\n",
       "      <td>-0.055353</td>\n",
       "      <td>-0.059752</td>\n",
       "      <td>378.66</td>\n",
       "      <td>0</td>\n",
       "    </tr>\n",
       "    <tr>\n",
       "      <th>3</th>\n",
       "      <td>1.0</td>\n",
       "      <td>-0.966272</td>\n",
       "      <td>-0.185226</td>\n",
       "      <td>1.792993</td>\n",
       "      <td>-0.863291</td>\n",
       "      <td>-0.010309</td>\n",
       "      <td>1.247203</td>\n",
       "      <td>0.237609</td>\n",
       "      <td>0.377436</td>\n",
       "      <td>-1.387024</td>\n",
       "      <td>...</td>\n",
       "      <td>-0.108300</td>\n",
       "      <td>0.005274</td>\n",
       "      <td>-0.190321</td>\n",
       "      <td>-1.175575</td>\n",
       "      <td>0.647376</td>\n",
       "      <td>-0.221929</td>\n",
       "      <td>0.062723</td>\n",
       "      <td>0.061458</td>\n",
       "      <td>123.50</td>\n",
       "      <td>0</td>\n",
       "    </tr>\n",
       "    <tr>\n",
       "      <th>4</th>\n",
       "      <td>2.0</td>\n",
       "      <td>-1.158233</td>\n",
       "      <td>0.877737</td>\n",
       "      <td>1.548718</td>\n",
       "      <td>0.403034</td>\n",
       "      <td>-0.407193</td>\n",
       "      <td>0.095921</td>\n",
       "      <td>0.592941</td>\n",
       "      <td>-0.270533</td>\n",
       "      <td>0.817739</td>\n",
       "      <td>...</td>\n",
       "      <td>-0.009431</td>\n",
       "      <td>0.798278</td>\n",
       "      <td>-0.137458</td>\n",
       "      <td>0.141267</td>\n",
       "      <td>-0.206010</td>\n",
       "      <td>0.502292</td>\n",
       "      <td>0.219422</td>\n",
       "      <td>0.215153</td>\n",
       "      <td>69.99</td>\n",
       "      <td>0</td>\n",
       "    </tr>\n",
       "  </tbody>\n",
       "</table>\n",
       "<p>5 rows × 31 columns</p>\n",
       "</div>"
      ],
      "text/plain": [
       "   Time        V1        V2        V3        V4        V5        V6        V7  \\\n",
       "0   0.0 -1.359807 -0.072781  2.536347  1.378155 -0.338321  0.462388  0.239599   \n",
       "1   0.0  1.191857  0.266151  0.166480  0.448154  0.060018 -0.082361 -0.078803   \n",
       "2   1.0 -1.358354 -1.340163  1.773209  0.379780 -0.503198  1.800499  0.791461   \n",
       "3   1.0 -0.966272 -0.185226  1.792993 -0.863291 -0.010309  1.247203  0.237609   \n",
       "4   2.0 -1.158233  0.877737  1.548718  0.403034 -0.407193  0.095921  0.592941   \n",
       "\n",
       "         V8        V9  ...       V21       V22       V23       V24       V25  \\\n",
       "0  0.098698  0.363787  ... -0.018307  0.277838 -0.110474  0.066928  0.128539   \n",
       "1  0.085102 -0.255425  ... -0.225775 -0.638672  0.101288 -0.339846  0.167170   \n",
       "2  0.247676 -1.514654  ...  0.247998  0.771679  0.909412 -0.689281 -0.327642   \n",
       "3  0.377436 -1.387024  ... -0.108300  0.005274 -0.190321 -1.175575  0.647376   \n",
       "4 -0.270533  0.817739  ... -0.009431  0.798278 -0.137458  0.141267 -0.206010   \n",
       "\n",
       "        V26       V27       V28  Amount  Class  \n",
       "0 -0.189115  0.133558 -0.021053  149.62      0  \n",
       "1  0.125895 -0.008983  0.014724    2.69      0  \n",
       "2 -0.139097 -0.055353 -0.059752  378.66      0  \n",
       "3 -0.221929  0.062723  0.061458  123.50      0  \n",
       "4  0.502292  0.219422  0.215153   69.99      0  \n",
       "\n",
       "[5 rows x 31 columns]"
      ]
     },
     "execution_count": 2,
     "metadata": {},
     "output_type": "execute_result"
    }
   ],
   "source": [
    "df = pd.read_csv(\"data/creditcard.csv\")\n",
    "\n",
    "df.head()"
   ]
  },
  {
   "cell_type": "code",
   "execution_count": 3,
   "id": "a14a9782-5fed-49dd-bd7b-5078b0942f28",
   "metadata": {},
   "outputs": [
    {
     "data": {
      "text/plain": [
       "Index(['Time', 'V1', 'V2', 'V3', 'V4', 'V5', 'V6', 'V7', 'V8', 'V9', 'V10',\n",
       "       'V11', 'V12', 'V13', 'V14', 'V15', 'V16', 'V17', 'V18', 'V19', 'V20',\n",
       "       'V21', 'V22', 'V23', 'V24', 'V25', 'V26', 'V27', 'V28', 'Amount',\n",
       "       'Class'],\n",
       "      dtype='object')"
      ]
     },
     "execution_count": 3,
     "metadata": {},
     "output_type": "execute_result"
    }
   ],
   "source": [
    "df.columns"
   ]
  },
  {
   "cell_type": "code",
   "execution_count": 4,
   "id": "e954f06f-b129-4893-8564-d864cfece200",
   "metadata": {},
   "outputs": [
    {
     "data": {
      "text/plain": [
       "(284807, 31)"
      ]
     },
     "execution_count": 4,
     "metadata": {},
     "output_type": "execute_result"
    }
   ],
   "source": [
    "df.shape"
   ]
  },
  {
   "cell_type": "code",
   "execution_count": 5,
   "id": "94da039f-ddcf-4ad2-a18b-3201bc4a7273",
   "metadata": {},
   "outputs": [
    {
     "data": {
      "text/plain": [
       "Time      0\n",
       "V1        0\n",
       "V2        0\n",
       "V3        0\n",
       "V4        0\n",
       "V5        0\n",
       "V6        0\n",
       "V7        0\n",
       "V8        0\n",
       "V9        0\n",
       "V10       0\n",
       "V11       0\n",
       "V12       0\n",
       "V13       0\n",
       "V14       0\n",
       "V15       0\n",
       "V16       0\n",
       "V17       0\n",
       "V18       0\n",
       "V19       0\n",
       "V20       0\n",
       "V21       0\n",
       "V22       0\n",
       "V23       0\n",
       "V24       0\n",
       "V25       0\n",
       "V26       0\n",
       "V27       0\n",
       "V28       0\n",
       "Amount    0\n",
       "Class     0\n",
       "dtype: int64"
      ]
     },
     "execution_count": 5,
     "metadata": {},
     "output_type": "execute_result"
    }
   ],
   "source": [
    "df.isnull().sum()"
   ]
  },
  {
   "cell_type": "code",
   "execution_count": 6,
   "id": "0a3c6c2d-9bc8-4938-a92f-5c04f9cde41e",
   "metadata": {},
   "outputs": [
    {
     "data": {
      "text/plain": [
       "0    284315\n",
       "1       492\n",
       "Name: Class, dtype: int64"
      ]
     },
     "execution_count": 6,
     "metadata": {},
     "output_type": "execute_result"
    }
   ],
   "source": [
    "df['Class'].value_counts()"
   ]
  },
  {
   "cell_type": "code",
   "execution_count": 7,
   "id": "78d749dc",
   "metadata": {},
   "outputs": [
    {
     "data": {
      "text/plain": [
       "0    99.827251\n",
       "1     0.172749\n",
       "Name: Class, dtype: float64"
      ]
     },
     "execution_count": 7,
     "metadata": {},
     "output_type": "execute_result"
    }
   ],
   "source": [
    "df['Class'].value_counts() / df['Class'].count() * 100"
   ]
  },
  {
   "cell_type": "code",
   "execution_count": 8,
   "id": "986ec921",
   "metadata": {},
   "outputs": [
    {
     "data": {
      "image/png": "[encoded data removed]",
      "text/plain": [
       "<Figure size 640x480 with 2 Axes>"
      ]
     },
     "metadata": {},
     "output_type": "display_data"
    }
   ],
   "source": [
    "sns.heatmap(\n",
    "    data = df.corr(),\n",
    "    cmap = 'coolwarm'\n",
    ");"
   ]
  },
  {
   "cell_type": "code",
   "execution_count": 9,
   "id": "8ee329a7",
   "metadata": {},
   "outputs": [
    {
     "data": {
      "text/plain": [
       "0        0 days 00:00:00\n",
       "1        0 days 00:00:00\n",
       "2        0 days 00:00:01\n",
       "3        0 days 00:00:01\n",
       "4        0 days 00:00:02\n",
       "               ...      \n",
       "284802   1 days 23:59:46\n",
       "284803   1 days 23:59:47\n",
       "284804   1 days 23:59:48\n",
       "284805   1 days 23:59:48\n",
       "284806   1 days 23:59:52\n",
       "Name: Time, Length: 284807, dtype: timedelta64[ns]"
      ]
     },
     "execution_count": 9,
     "metadata": {},
     "output_type": "execute_result"
    }
   ],
   "source": [
    "date_time = pd.to_timedelta(df['Time'], unit = 's')\n",
    "date_time"
   ]
  },
  {
   "cell_type": "code",
   "execution_count": 10,
   "id": "b937cb6d",
   "metadata": {},
   "outputs": [],
   "source": [
    "df['Time Day'] = (date_time.dt.components.days).astype('int')\n",
    "df['Time Hour'] = (date_time.dt.components.hours).astype('int')"
   ]
  },
  {
   "cell_type": "code",
   "execution_count": 26,
   "id": "28c8cf4b",
   "metadata": {},
   "outputs": [],
   "source": [
    "df_fraud = df[df['Class'] == 1].reset_index(drop=True)"
   ]
  },
  {
   "cell_type": "code",
   "execution_count": 43,
   "id": "b18e6646",
   "metadata": {},
   "outputs": [
    {
     "data": {
      "text/plain": [
       "0    281\n",
       "1    211\n",
       "Name: Time Day, dtype: int64"
      ]
     },
     "execution_count": 43,
     "metadata": {},
     "output_type": "execute_result"
    }
   ],
   "source": [
    "df_fraud['Time Day'].value_counts()"
   ]
  },
  {
   "cell_type": "code",
   "execution_count": 110,
   "id": "e2d1fa52",
   "metadata": {},
   "outputs": [
    {
     "name": "stderr",
     "output_type": "stream",
     "text": [
      "/tmp/ipykernel_63709/967127969.py:7: FutureWarning: The series.append method is deprecated and will be removed from pandas in a future version. Use pandas.concat instead.\n",
      "  df_fraud[df_fraud['Time Day']==1]['Time Hour'].value_counts().append(pd.Series({5:0, 7:0})).sort_index(),\n"
     ]
    },
    {
     "data": {
      "image/png": "[encoded data removed]",
      "text/plain": [
       "<Figure size 640x480 with 1 Axes>"
      ]
     },
     "metadata": {},
     "output_type": "display_data"
    }
   ],
   "source": [
    "plt.plot(\n",
    "    df_fraud[df_fraud['Time Day']==0]['Time Hour'].value_counts().sort_index(),\n",
    "    label='Day 1'\n",
    ")\n",
    "\n",
    "plt.plot(\n",
    "    df_fraud[df_fraud['Time Day']==1]['Time Hour'].value_counts().append(pd.Series({5:0, 7:0})).sort_index(),\n",
    "    label='Day 2'\n",
    ")\n",
    "\n",
    "plt.legend()\n",
    "plt.xlabel('Hour')\n",
    "plt.ylabel('Fraud Count')\n",
    "plt.title('Fraud count w.r.t Hour and Day')\n",
    "plt.grid('True')\n",
    "plt.show()"
   ]
  },
  {
   "cell_type": "code",
   "execution_count": 119,
   "id": "848e4d42",
   "metadata": {},
   "outputs": [
    {
     "name": "stderr",
     "output_type": "stream",
     "text": [
      "/tmp/ipykernel_63709/3309350498.py:11: FutureWarning: The series.append method is deprecated and will be removed from pandas in a future version. Use pandas.concat instead.\n",
      "  height = df_fraud[df_fraud['Time Day']==1]['Time Hour'].value_counts().append(pd.Series({5:0, 7:0})).sort_index(),\n"
     ]
    },
    {
     "data": {
      "image/png": "[encoded data removed]",
      "text/plain": [
       "<Figure size 640x480 with 1 Axes>"
      ]
     },
     "metadata": {},
     "output_type": "display_data"
    }
   ],
   "source": [
    "plt.bar(\n",
    "    x = range(24),\n",
    "    height = df_fraud[df_fraud['Time Day']==0]['Time Hour'].value_counts().sort_index(),\n",
    "    label='Day 1',\n",
    "    width = 0.5,\n",
    "    align = 'edge'\n",
    ")\n",
    "\n",
    "plt.bar(\n",
    "    x = range(24),\n",
    "    height = df_fraud[df_fraud['Time Day']==1]['Time Hour'].value_counts().append(pd.Series({5:0, 7:0})).sort_index(),\n",
    "    label='Day 2',\n",
    "    width = 0.5\n",
    ")\n",
    "\n",
    "plt.legend()\n",
    "plt.xlabel('Hour')\n",
    "plt.ylabel('Fraud Count')\n",
    "plt.title('Fraud count w.r.t Hour and Day')\n",
    "plt.show()"
   ]
  },
  {
   "cell_type": "code",
   "execution_count": 135,
   "id": "4da0da79",
   "metadata": {},
   "outputs": [
    {
     "name": "stderr",
     "output_type": "stream",
     "text": [
      "/tmp/ipykernel_63709/2270657628.py:4: FutureWarning: The series.append method is deprecated and will be removed from pandas in a future version. Use pandas.concat instead.\n",
      "  df_fraud[df_fraud['Time Day']==1]['Time Hour'].value_counts().append(pd.Series({5:0, 7:0})).sort_index()],\n",
      "/tmp/ipykernel_63709/2270657628.py:13: FutureWarning: The series.append method is deprecated and will be removed from pandas in a future version. Use pandas.concat instead.\n",
      "  df_fraud[df_fraud['Time Day']==1]['Time Hour'].value_counts().append(pd.Series({5:0, 7:0})).sort_index()],\n"
     ]
    },
    {
     "data": {
      "image/png": "[encoded data removed]",
      "text/plain": [
       "<Figure size 640x480 with 1 Axes>"
      ]
     },
     "metadata": {},
     "output_type": "display_data"
    }
   ],
   "source": [
    "plt.plot(\n",
    "    pd.concat(\n",
    "        [df_fraud[df_fraud['Time Day']==0]['Time Hour'].value_counts().sort_index(),\n",
    "        df_fraud[df_fraud['Time Day']==1]['Time Hour'].value_counts().append(pd.Series({5:0, 7:0})).sort_index()],\n",
    "        axis = 0\n",
    "    ).reset_index(drop=True)\n",
    ")\n",
    "\n",
    "plt.scatter(\n",
    "    x = range(48),\n",
    "    y = pd.concat(\n",
    "        [df_fraud[df_fraud['Time Day']==0]['Time Hour'].value_counts().sort_index(),\n",
    "        df_fraud[df_fraud['Time Day']==1]['Time Hour'].value_counts().append(pd.Series({5:0, 7:0})).sort_index()],\n",
    "        axis = 0\n",
    "    ).reset_index(drop=True),\n",
    ")\n",
    "\n",
    "plt.xlabel('Hour')\n",
    "plt.ylabel('Fraud Count')\n",
    "plt.title('Fraud count w.r.t Hour')\n",
    "plt.grid('True')\n",
    "plt.show()"
   ]
  },
  {
   "cell_type": "code",
   "execution_count": 139,
   "id": "95deee38",
   "metadata": {},
   "outputs": [
    {
     "data": {
      "text/html": [
       "<div>\n",
       "<style scoped>\n",
       "    .dataframe tbody tr th:only-of-type {\n",
       "        vertical-align: middle;\n",
       "    }\n",
       "\n",
       "    .dataframe tbody tr th {\n",
       "        vertical-align: top;\n",
       "    }\n",
       "\n",
       "    .dataframe thead th {\n",
       "        text-align: right;\n",
       "    }\n",
       "</style>\n",
       "<table border=\"1\" class=\"dataframe\">\n",
       "  <thead>\n",
       "    <tr style=\"text-align: right;\">\n",
       "      <th></th>\n",
       "      <th>Time</th>\n",
       "      <th>V1</th>\n",
       "      <th>V2</th>\n",
       "      <th>V3</th>\n",
       "      <th>V4</th>\n",
       "      <th>V5</th>\n",
       "      <th>V6</th>\n",
       "      <th>V7</th>\n",
       "      <th>V8</th>\n",
       "      <th>V9</th>\n",
       "      <th>...</th>\n",
       "      <th>V23</th>\n",
       "      <th>V24</th>\n",
       "      <th>V25</th>\n",
       "      <th>V26</th>\n",
       "      <th>V27</th>\n",
       "      <th>V28</th>\n",
       "      <th>Amount</th>\n",
       "      <th>Class</th>\n",
       "      <th>Time Day</th>\n",
       "      <th>Time Hour</th>\n",
       "    </tr>\n",
       "  </thead>\n",
       "  <tbody>\n",
       "    <tr>\n",
       "      <th>0</th>\n",
       "      <td>406.0</td>\n",
       "      <td>-2.312227</td>\n",
       "      <td>1.951992</td>\n",
       "      <td>-1.609851</td>\n",
       "      <td>3.997906</td>\n",
       "      <td>-0.522188</td>\n",
       "      <td>-1.426545</td>\n",
       "      <td>-2.537387</td>\n",
       "      <td>1.391657</td>\n",
       "      <td>-2.770089</td>\n",
       "      <td>...</td>\n",
       "      <td>-0.465211</td>\n",
       "      <td>0.320198</td>\n",
       "      <td>0.044519</td>\n",
       "      <td>0.177840</td>\n",
       "      <td>0.261145</td>\n",
       "      <td>-0.143276</td>\n",
       "      <td>0.00</td>\n",
       "      <td>1</td>\n",
       "      <td>0</td>\n",
       "      <td>0</td>\n",
       "    </tr>\n",
       "    <tr>\n",
       "      <th>1</th>\n",
       "      <td>472.0</td>\n",
       "      <td>-3.043541</td>\n",
       "      <td>-3.157307</td>\n",
       "      <td>1.088463</td>\n",
       "      <td>2.288644</td>\n",
       "      <td>1.359805</td>\n",
       "      <td>-1.064823</td>\n",
       "      <td>0.325574</td>\n",
       "      <td>-0.067794</td>\n",
       "      <td>-0.270953</td>\n",
       "      <td>...</td>\n",
       "      <td>1.375966</td>\n",
       "      <td>-0.293803</td>\n",
       "      <td>0.279798</td>\n",
       "      <td>-0.145362</td>\n",
       "      <td>-0.252773</td>\n",
       "      <td>0.035764</td>\n",
       "      <td>529.00</td>\n",
       "      <td>1</td>\n",
       "      <td>0</td>\n",
       "      <td>0</td>\n",
       "    </tr>\n",
       "    <tr>\n",
       "      <th>2</th>\n",
       "      <td>4462.0</td>\n",
       "      <td>-2.303350</td>\n",
       "      <td>1.759247</td>\n",
       "      <td>-0.359745</td>\n",
       "      <td>2.330243</td>\n",
       "      <td>-0.821628</td>\n",
       "      <td>-0.075788</td>\n",
       "      <td>0.562320</td>\n",
       "      <td>-0.399147</td>\n",
       "      <td>-0.238253</td>\n",
       "      <td>...</td>\n",
       "      <td>0.172726</td>\n",
       "      <td>-0.087330</td>\n",
       "      <td>-0.156114</td>\n",
       "      <td>-0.542628</td>\n",
       "      <td>0.039566</td>\n",
       "      <td>-0.153029</td>\n",
       "      <td>239.93</td>\n",
       "      <td>1</td>\n",
       "      <td>0</td>\n",
       "      <td>1</td>\n",
       "    </tr>\n",
       "    <tr>\n",
       "      <th>3</th>\n",
       "      <td>6986.0</td>\n",
       "      <td>-4.397974</td>\n",
       "      <td>1.358367</td>\n",
       "      <td>-2.592844</td>\n",
       "      <td>2.679787</td>\n",
       "      <td>-1.128131</td>\n",
       "      <td>-1.706536</td>\n",
       "      <td>-3.496197</td>\n",
       "      <td>-0.248778</td>\n",
       "      <td>-0.247768</td>\n",
       "      <td>...</td>\n",
       "      <td>-0.436207</td>\n",
       "      <td>-0.053502</td>\n",
       "      <td>0.252405</td>\n",
       "      <td>-0.657488</td>\n",
       "      <td>-0.827136</td>\n",
       "      <td>0.849573</td>\n",
       "      <td>59.00</td>\n",
       "      <td>1</td>\n",
       "      <td>0</td>\n",
       "      <td>1</td>\n",
       "    </tr>\n",
       "    <tr>\n",
       "      <th>4</th>\n",
       "      <td>7519.0</td>\n",
       "      <td>1.234235</td>\n",
       "      <td>3.019740</td>\n",
       "      <td>-4.304597</td>\n",
       "      <td>4.732795</td>\n",
       "      <td>3.624201</td>\n",
       "      <td>-1.357746</td>\n",
       "      <td>1.713445</td>\n",
       "      <td>-0.496358</td>\n",
       "      <td>-1.282858</td>\n",
       "      <td>...</td>\n",
       "      <td>-0.656805</td>\n",
       "      <td>-1.632653</td>\n",
       "      <td>1.488901</td>\n",
       "      <td>0.566797</td>\n",
       "      <td>-0.010016</td>\n",
       "      <td>0.146793</td>\n",
       "      <td>1.00</td>\n",
       "      <td>1</td>\n",
       "      <td>0</td>\n",
       "      <td>2</td>\n",
       "    </tr>\n",
       "    <tr>\n",
       "      <th>...</th>\n",
       "      <td>...</td>\n",
       "      <td>...</td>\n",
       "      <td>...</td>\n",
       "      <td>...</td>\n",
       "      <td>...</td>\n",
       "      <td>...</td>\n",
       "      <td>...</td>\n",
       "      <td>...</td>\n",
       "      <td>...</td>\n",
       "      <td>...</td>\n",
       "      <td>...</td>\n",
       "      <td>...</td>\n",
       "      <td>...</td>\n",
       "      <td>...</td>\n",
       "      <td>...</td>\n",
       "      <td>...</td>\n",
       "      <td>...</td>\n",
       "      <td>...</td>\n",
       "      <td>...</td>\n",
       "      <td>...</td>\n",
       "      <td>...</td>\n",
       "    </tr>\n",
       "    <tr>\n",
       "      <th>276</th>\n",
       "      <td>85573.0</td>\n",
       "      <td>-1.756712</td>\n",
       "      <td>3.266574</td>\n",
       "      <td>-4.153388</td>\n",
       "      <td>3.924526</td>\n",
       "      <td>-1.753772</td>\n",
       "      <td>-1.005787</td>\n",
       "      <td>-4.313217</td>\n",
       "      <td>1.560712</td>\n",
       "      <td>-3.295674</td>\n",
       "      <td>...</td>\n",
       "      <td>-0.367701</td>\n",
       "      <td>-0.776338</td>\n",
       "      <td>0.292094</td>\n",
       "      <td>0.026000</td>\n",
       "      <td>1.062968</td>\n",
       "      <td>0.501148</td>\n",
       "      <td>1.00</td>\n",
       "      <td>1</td>\n",
       "      <td>0</td>\n",
       "      <td>23</td>\n",
       "    </tr>\n",
       "    <tr>\n",
       "      <th>277</th>\n",
       "      <td>85576.0</td>\n",
       "      <td>-2.207631</td>\n",
       "      <td>3.259076</td>\n",
       "      <td>-5.436365</td>\n",
       "      <td>3.684737</td>\n",
       "      <td>-3.066401</td>\n",
       "      <td>-0.671323</td>\n",
       "      <td>-3.696178</td>\n",
       "      <td>1.822272</td>\n",
       "      <td>-3.049653</td>\n",
       "      <td>...</td>\n",
       "      <td>0.026754</td>\n",
       "      <td>-0.791489</td>\n",
       "      <td>0.176493</td>\n",
       "      <td>-0.136312</td>\n",
       "      <td>1.087585</td>\n",
       "      <td>0.373834</td>\n",
       "      <td>240.77</td>\n",
       "      <td>1</td>\n",
       "      <td>0</td>\n",
       "      <td>23</td>\n",
       "    </tr>\n",
       "    <tr>\n",
       "      <th>278</th>\n",
       "      <td>85864.0</td>\n",
       "      <td>-3.365265</td>\n",
       "      <td>2.928541</td>\n",
       "      <td>-5.660999</td>\n",
       "      <td>3.891160</td>\n",
       "      <td>-1.840375</td>\n",
       "      <td>-1.800887</td>\n",
       "      <td>-5.558679</td>\n",
       "      <td>2.402322</td>\n",
       "      <td>-2.848923</td>\n",
       "      <td>...</td>\n",
       "      <td>-0.606283</td>\n",
       "      <td>-0.743165</td>\n",
       "      <td>0.096319</td>\n",
       "      <td>-0.135060</td>\n",
       "      <td>1.238695</td>\n",
       "      <td>0.099824</td>\n",
       "      <td>1.00</td>\n",
       "      <td>1</td>\n",
       "      <td>0</td>\n",
       "      <td>23</td>\n",
       "    </tr>\n",
       "    <tr>\n",
       "      <th>279</th>\n",
       "      <td>85867.0</td>\n",
       "      <td>-3.586964</td>\n",
       "      <td>2.609127</td>\n",
       "      <td>-5.568577</td>\n",
       "      <td>3.631947</td>\n",
       "      <td>-4.543590</td>\n",
       "      <td>-0.157899</td>\n",
       "      <td>-4.089128</td>\n",
       "      <td>2.417305</td>\n",
       "      <td>-3.239901</td>\n",
       "      <td>...</td>\n",
       "      <td>0.182032</td>\n",
       "      <td>-0.534598</td>\n",
       "      <td>0.168933</td>\n",
       "      <td>-0.149844</td>\n",
       "      <td>0.685517</td>\n",
       "      <td>-0.299728</td>\n",
       "      <td>310.42</td>\n",
       "      <td>1</td>\n",
       "      <td>0</td>\n",
       "      <td>23</td>\n",
       "    </tr>\n",
       "    <tr>\n",
       "      <th>280</th>\n",
       "      <td>86376.0</td>\n",
       "      <td>-0.670238</td>\n",
       "      <td>0.945206</td>\n",
       "      <td>0.610051</td>\n",
       "      <td>2.640065</td>\n",
       "      <td>-2.707775</td>\n",
       "      <td>1.952611</td>\n",
       "      <td>-1.624608</td>\n",
       "      <td>-5.229908</td>\n",
       "      <td>0.210202</td>\n",
       "      <td>...</td>\n",
       "      <td>0.351542</td>\n",
       "      <td>0.648467</td>\n",
       "      <td>0.579681</td>\n",
       "      <td>0.075738</td>\n",
       "      <td>0.346717</td>\n",
       "      <td>0.282209</td>\n",
       "      <td>323.77</td>\n",
       "      <td>1</td>\n",
       "      <td>0</td>\n",
       "      <td>23</td>\n",
       "    </tr>\n",
       "  </tbody>\n",
       "</table>\n",
       "<p>281 rows × 33 columns</p>\n",
       "</div>"
      ],
      "text/plain": [
       "        Time        V1        V2        V3        V4        V5        V6  \\\n",
       "0      406.0 -2.312227  1.951992 -1.609851  3.997906 -0.522188 -1.426545   \n",
       "1      472.0 -3.043541 -3.157307  1.088463  2.288644  1.359805 -1.064823   \n",
       "2     4462.0 -2.303350  1.759247 -0.359745  2.330243 -0.821628 -0.075788   \n",
       "3     6986.0 -4.397974  1.358367 -2.592844  2.679787 -1.128131 -1.706536   \n",
       "4     7519.0  1.234235  3.019740 -4.304597  4.732795  3.624201 -1.357746   \n",
       "..       ...       ...       ...       ...       ...       ...       ...   \n",
       "276  85573.0 -1.756712  3.266574 -4.153388  3.924526 -1.753772 -1.005787   \n",
       "277  85576.0 -2.207631  3.259076 -5.436365  3.684737 -3.066401 -0.671323   \n",
       "278  85864.0 -3.365265  2.928541 -5.660999  3.891160 -1.840375 -1.800887   \n",
       "279  85867.0 -3.586964  2.609127 -5.568577  3.631947 -4.543590 -0.157899   \n",
       "280  86376.0 -0.670238  0.945206  0.610051  2.640065 -2.707775  1.952611   \n",
       "\n",
       "           V7        V8        V9  ...       V23       V24       V25  \\\n",
       "0   -2.537387  1.391657 -2.770089  ... -0.465211  0.320198  0.044519   \n",
       "1    0.325574 -0.067794 -0.270953  ...  1.375966 -0.293803  0.279798   \n",
       "2    0.562320 -0.399147 -0.238253  ...  0.172726 -0.087330 -0.156114   \n",
       "3   -3.496197 -0.248778 -0.247768  ... -0.436207 -0.053502  0.252405   \n",
       "4    1.713445 -0.496358 -1.282858  ... -0.656805 -1.632653  1.488901   \n",
       "..        ...       ...       ...  ...       ...       ...       ...   \n",
       "276 -4.313217  1.560712 -3.295674  ... -0.367701 -0.776338  0.292094   \n",
       "277 -3.696178  1.822272 -3.049653  ...  0.026754 -0.791489  0.176493   \n",
       "278 -5.558679  2.402322 -2.848923  ... -0.606283 -0.743165  0.096319   \n",
       "279 -4.089128  2.417305 -3.239901  ...  0.182032 -0.534598  0.168933   \n",
       "280 -1.624608 -5.229908  0.210202  ...  0.351542  0.648467  0.579681   \n",
       "\n",
       "          V26       V27       V28  Amount  Class  Time Day  Time Hour  \n",
       "0    0.177840  0.261145 -0.143276    0.00      1         0          0  \n",
       "1   -0.145362 -0.252773  0.035764  529.00      1         0          0  \n",
       "2   -0.542628  0.039566 -0.153029  239.93      1         0          1  \n",
       "3   -0.657488 -0.827136  0.849573   59.00      1         0          1  \n",
       "4    0.566797 -0.010016  0.146793    1.00      1         0          2  \n",
       "..        ...       ...       ...     ...    ...       ...        ...  \n",
       "276  0.026000  1.062968  0.501148    1.00      1         0         23  \n",
       "277 -0.136312  1.087585  0.373834  240.77      1         0         23  \n",
       "278 -0.135060  1.238695  0.099824    1.00      1         0         23  \n",
       "279 -0.149844  0.685517 -0.299728  310.42      1         0         23  \n",
       "280  0.075738  0.346717  0.282209  323.77      1         0         23  \n",
       "\n",
       "[281 rows x 33 columns]"
      ]
     },
     "execution_count": 139,
     "metadata": {},
     "output_type": "execute_result"
    }
   ],
   "source": [
    "df_fraud[df_fraud['Time Day']==0]"
   ]
  },
  {
   "cell_type": "code",
   "execution_count": null,
   "id": "4dcdc7cb",
   "metadata": {},
   "outputs": [],
   "source": []
  },
  {
   "cell_type": "code",
   "execution_count": null,
   "id": "094f6be6",
   "metadata": {},
   "outputs": [],
   "source": []
  },
  {
   "cell_type": "code",
   "execution_count": null,
   "id": "a865cc98",
   "metadata": {},
   "outputs": [],
   "source": []
  },
  {
   "cell_type": "code",
   "execution_count": null,
   "id": "1dc757bd",
   "metadata": {},
   "outputs": [],
   "source": []
  },
  {
   "cell_type": "code",
   "execution_count": null,
   "id": "041dd218",
   "metadata": {},
   "outputs": [],
   "source": []
  },
  {
   "cell_type": "code",
   "execution_count": null,
   "id": "97924c26",
   "metadata": {},
   "outputs": [],
   "source": []
  },
  {
   "cell_type": "code",
   "execution_count": null,
   "id": "d4364167",
   "metadata": {},
   "outputs": [],
   "source": []
  },
  {
   "cell_type": "code",
   "execution_count": null,
   "id": "72a5b7cd",
   "metadata": {},
   "outputs": [],
   "source": []
  },
  {
   "cell_type": "code",
   "execution_count": null,
   "id": "a2f642b4",
   "metadata": {},
   "outputs": [],
   "source": []
  },
  {
   "cell_type": "code",
   "execution_count": null,
   "id": "a9863967",
   "metadata": {},
   "outputs": [],
   "source": []
  },
  {
   "cell_type": "code",
   "execution_count": null,
   "id": "94422158",
   "metadata": {},
   "outputs": [],
   "source": []
  },
  {
   "cell_type": "code",
   "execution_count": null,
   "id": "97b8a12a",
   "metadata": {},
   "outputs": [],
   "source": []
  },
  {
   "cell_type": "code",
   "execution_count": null,
   "id": "9de4a074",
   "metadata": {},
   "outputs": [],
   "source": []
  },
  {
   "cell_type": "code",
   "execution_count": null,
   "id": "08929a8b",
   "metadata": {},
   "outputs": [],
   "source": []
  }
 ],
 "metadata": {
  "kernelspec": {
   "display_name": "Python 3 (ipykernel)",
   "language": "python",
   "name": "python3"
  },
  "language_info": {
   "codemirror_mode": {
    "name": "ipython",
    "version": 3
   },
   "file_extension": ".py",
   "mimetype": "text/x-python",
   "name": "python",
   "nbconvert_exporter": "python",
   "pygments_lexer": "ipython3",
   "version": "3.10.9"
  }
 },
 "nbformat": 4,
 "nbformat_minor": 5
}
